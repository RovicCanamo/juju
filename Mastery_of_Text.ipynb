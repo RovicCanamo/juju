{
 "cells": [
  {
   "cell_type": "code",
   "execution_count": 13,
   "id": "0b4d5dd3-d004-4bec-b3e6-4e73ce55c203",
   "metadata": {},
   "outputs": [],
   "source": [
    "import urllib.request\n",
    "pg10 = urllib.request.urlopen(\"https://www.gutenberg.org/cache/epub/10/pg10.txt\").read().decode(\"utf-8\").lower()"
   ]
  },
  {
   "cell_type": "code",
   "execution_count": 29,
   "id": "31f201d4-5e32-42e2-afeb-0f8c7fd7c3a0",
   "metadata": {},
   "outputs": [
    {
     "name": "stdout",
     "output_type": "stream",
     "text": [
      "Line Count: 99968\n"
     ]
    }
   ],
   "source": [
    "\n",
    "line_count = len(pg10.splitlines())\n",
    "print (\"Line Count:\", line_count)"
   ]
  },
  {
   "cell_type": "code",
   "execution_count": 8,
   "id": "5e083987-24bc-4101-bb8e-550597c3c913",
   "metadata": {},
   "outputs": [],
   "source": [
    "def words_only(text):\n",
    "    words = []\n",
    "    word = \"\"\n",
    "    for char in text:\n",
    "        if char.isalpha():\n",
    "            word += char\n",
    "        else:\n",
    "            if word:\n",
    "                words.append(word)\n",
    "                word = \"\"\n",
    "    if word:\n",
    "        words.append(word)\n",
    "    return words\n",
    "\n",
    "words = words_only(pg10)"
   ]
  },
  {
   "cell_type": "code",
   "execution_count": 7,
   "id": "bc99f661-952c-430f-8e23-d335a548edae",
   "metadata": {},
   "outputs": [
    {
     "name": "stdout",
     "output_type": "stream",
     "text": [
      "Word Count: 795227\n"
     ]
    }
   ],
   "source": [
    "word_count = len(words)\n",
    "print (\"Word Count:\", word_count)"
   ]
  },
  {
   "cell_type": "code",
   "execution_count": 10,
   "id": "fbc2ccc6-86ab-426c-95b6-56607c3b187c",
   "metadata": {},
   "outputs": [
    {
     "name": "stdout",
     "output_type": "stream",
     "text": [
      "Apostle Count: 47\n"
     ]
    }
   ],
   "source": [
    "apostle_count = sum(1 for w in words if w == \"apostle\")\n",
    "print (\"Apostle Count:\", apostle_count)"
   ]
  },
  {
   "cell_type": "code",
   "execution_count": 9,
   "id": "d7cbb4c7-61dd-4a18-9342-c769d2c74f4b",
   "metadata": {},
   "outputs": [
    {
     "name": "stdout",
     "output_type": "stream",
     "text": [
      "Most Common Word: the\n"
     ]
    }
   ],
   "source": [
    "word_freq = {}\n",
    "for word in words:\n",
    "    if word in word_freq:\n",
    "        word_freq[word] += 1\n",
    "    else:\n",
    "        word_freq[word] = 1\n",
    "\n",
    "most_common_word = \"\"\n",
    "max_count = 0\n",
    "for word, count in word_freq.items():\n",
    "    if count > max_count:\n",
    "        most_common_word = word\n",
    "        max_count = count\n",
    "\n",
    "print(\"Most Common Word:\", most_common_word)"
   ]
  }
 ],
 "metadata": {
  "kernelspec": {
   "display_name": "Python [conda env:base] *",
   "language": "python",
   "name": "conda-base-py"
  },
  "language_info": {
   "codemirror_mode": {
    "name": "ipython",
    "version": 3
   },
   "file_extension": ".py",
   "mimetype": "text/x-python",
   "name": "python",
   "nbconvert_exporter": "python",
   "pygments_lexer": "ipython3",
   "version": "3.12.7"
  }
 },
 "nbformat": 4,
 "nbformat_minor": 5
}
